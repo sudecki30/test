{
 "cells": [
  {
   "cell_type": "code",
   "execution_count": 1,
   "metadata": {},
   "outputs": [],
   "source": [
    "import numpy as np\n",
    "import matplotlib.pyplot as plt"
   ]
  },
  {
   "cell_type": "code",
   "execution_count": 2,
   "metadata": {},
   "outputs": [],
   "source": [
    "def kalman( x, P, m, R, motion, Q, F, H ):\n",
    "        '''\n",
    "        Parameters:\n",
    "        x: initial state\n",
    "        P: initial uncertainty convariance matrix\n",
    "        measurement: observed position ( same shape as H * x )\n",
    "        R: measurement noise ( same shape as H )\n",
    "        motion: external motion added to state vector x\n",
    "        Q: motion noise ( same shape as P )\n",
    "        F: next state function: x_prime = F * x\n",
    "        H: measurement function: position = H * x\n",
    "\n",
    "        Return: the updated and predicted new values for ( x, P )\n",
    "\n",
    "        See also http://en.wikipedia.org/wiki/Kalman_filter\n",
    "\n",
    "        This version of kalman can be applied to many different situations by\n",
    "        appropriately defining F and H \n",
    "        '''\n",
    "\n",
    "#---- UPDATE x, P based on measurement m    \n",
    "#            distance between measured and current position-belief\n",
    "\n",
    "        y = m - H * x\n",
    "\n",
    "        S = H * P * H.T + R  # residual convariance\n",
    "        K = P * H.T * S.I    # Kalman gain\n",
    "\n",
    "        x = x + K * y\n",
    "        I = np.matrix( np.eye( F.shape[0] ) ) # identity matrix\n",
    "        P = ( I - K * H ) * P\n",
    "\n",
    "#---- PREDICT x, P based on motion\n",
    "\n",
    "        x = F * x + motion\n",
    "        P = F * P * F.T + Q\n",
    "\n",
    "#---- Exit\n",
    "\n",
    "        return x, P,K*y"
   ]
  },
  {
   "cell_type": "code",
   "execution_count": 3,
   "metadata": {},
   "outputs": [],
   "source": [
    "\n",
    "\n",
    "#pb2\n",
    "\n",
    "#read\n",
    "\n",
    "data1=np.loadtxt('pb2.csv',delimiter=',')"
   ]
  },
  {
   "cell_type": "code",
   "execution_count": 4,
   "metadata": {},
   "outputs": [
    {
     "name": "stdout",
     "output_type": "stream",
     "text": [
      "256\n"
     ]
    }
   ],
   "source": [
    "#size data\n",
    "sz=len(data1)\n",
    "print(sz)"
   ]
  },
  {
   "cell_type": "code",
   "execution_count": 5,
   "metadata": {},
   "outputs": [],
   "source": [
    "#init param filter\n",
    "N =sz\n",
    "x = np.matrix( '0. 0. 0. 0.' ).T \n",
    "P = np.matrix( np.eye( 4 ) ) *10e3\n",
    "R = 0.01**2\n",
    "F = np.matrix( '''\n",
    "            1. 0. 1. 0.;\n",
    "            0. 1. 0. 1.;\n",
    "            0. 0. 1. 0.;\n",
    "            0. 0. 0. 1.\n",
    "            ''' )\n",
    "H = np.matrix( '''\n",
    "            1. 0. 0. 0.;\n",
    "            0. 1. 0. 0.;\n",
    "            0. 0. 1. 0.''' )\n",
    "motion = np.matrix( '0. 0. 0. 0.' ).T\n",
    "\n",
    "Q = np.matrix( np.eye( 4 ) )\n",
    "\n",
    "m = np.matrix( '0. 0. 0.' ).T #len = le nombre de cible+1\n",
    "\n",
    "#init value\n",
    "kalman_y1 = np.zeros(N )\n",
    "kalman_y2 = np.zeros(N )\n",
    "k = np.zeros(N )\n",
    "kalman_x = np.zeros( sz ) #creer kalman_y2 etc selon le nombre de cible\n",
    "observed_x=range(sz)\n",
    "#temp var init\n",
    "track=1 #object tracked\n",
    "pos=0\n",
    "\n",
    "#filter\n",
    "for n in range( sz ):\n",
    "        if track==1:\n",
    "            m[0] = n\n",
    "            m[1] = data1[n]\n",
    "            m[2]=0\n",
    "            \n",
    "        else:\n",
    "            m[0] = n\n",
    "            m[1] = data1[pos]\n",
    "            m[2]=   data1[n]    #init m avec les possitions des cibles a t=0\n",
    "        x, P, K = kalman( x, P, m, R, motion, Q, F, H )\n",
    "        k[n]=K[1]\n",
    "        if n>2: #recherche de la discontinuité de K*y sur l'object1 (similaire à la vitesse)\n",
    "            if abs(k[n])>500*abs(k[n-1]):\n",
    "                track=2\n",
    "                pos=n-1\n",
    "        #save data\n",
    "        kalman_x[n] = x[0]\n",
    "        kalman_y1[n] = x[1]\n",
    "        kalman_y2[n] = x[2]"
   ]
  },
  {
   "cell_type": "code",
   "execution_count": 6,
   "metadata": {},
   "outputs": [
    {
     "data": {
      "text/plain": [
       "[<matplotlib.lines.Line2D at 0x20ad17833c8>]"
      ]
     },
     "execution_count": 6,
     "metadata": {},
     "output_type": "execute_result"
    },
    {
     "data": {
      "image/png": "[encoded data removed]",
      "text/plain": [
       "<Figure size 432x288 with 1 Axes>"
      ]
     },
     "metadata": {
      "needs_background": "light"
     },
     "output_type": "display_data"
    }
   ],
   "source": [
    "#calcul vitesse\n",
    "v_mess1=np.gradient(data1)\n",
    "\n",
    "v_filtr1=np.gradient(kalman_y1)\n",
    "v_filtr2=np.gradient(kalman_y2)\n",
    "\n",
    "#plot k\n",
    "plt.plot(k)"
   ]
  },
  {
   "cell_type": "code",
   "execution_count": 7,
   "metadata": {},
   "outputs": [
    {
     "data": {
      "text/plain": [
       "[<matplotlib.lines.Line2D at 0x20ad17eb2b0>]"
      ]
     },
     "execution_count": 7,
     "metadata": {},
     "output_type": "execute_result"
    },
    {
     "data": {
      "image/png": "[encoded data removed]",
      "text/plain": [
       "<Figure size 432x288 with 1 Axes>"
      ]
     },
     "metadata": {
      "needs_background": "light"
     },
     "output_type": "display_data"
    }
   ],
   "source": [
    "#plot deplacement messuré\n",
    "plt.plot(data1[0:int(sz/2)])\n",
    "plt.plot(data1[int(sz/2):sz])"
   ]
  },
  {
   "cell_type": "code",
   "execution_count": 8,
   "metadata": {},
   "outputs": [
    {
     "data": {
      "text/plain": [
       "[<matplotlib.lines.Line2D at 0x20ad183f080>]"
      ]
     },
     "execution_count": 8,
     "metadata": {},
     "output_type": "execute_result"
    },
    {
     "data": {
      "image/png": "[encoded data removed]",
      "text/plain": [
       "<Figure size 432x288 with 1 Axes>"
      ]
     },
     "metadata": {
      "needs_background": "light"
     },
     "output_type": "display_data"
    }
   ],
   "source": [
    "#plot deplacement apres filtre\n",
    "plt.plot(kalman_y1)\n",
    "plt.plot(kalman_y2)"
   ]
  },
  {
   "cell_type": "code",
   "execution_count": 9,
   "metadata": {},
   "outputs": [
    {
     "ename": "NameError",
     "evalue": "name 'v_mess2' is not defined",
     "output_type": "error",
     "traceback": [
      "\u001b[1;31m---------------------------------------------------------------------------\u001b[0m",
      "\u001b[1;31mNameError\u001b[0m                                 Traceback (most recent call last)",
      "\u001b[1;32m<ipython-input-9-9cc165a1acd8>\u001b[0m in \u001b[0;36m<module>\u001b[1;34m\u001b[0m\n\u001b[0;32m      1\u001b[0m \u001b[1;31m#plot vitesse à partir du deplacement messuré\u001b[0m\u001b[1;33m\u001b[0m\u001b[1;33m\u001b[0m\u001b[0m\n\u001b[0;32m      2\u001b[0m \u001b[0mplt\u001b[0m\u001b[1;33m.\u001b[0m\u001b[0mplot\u001b[0m\u001b[1;33m(\u001b[0m\u001b[0mv_mess1\u001b[0m\u001b[1;33m)\u001b[0m\u001b[1;33m\u001b[0m\u001b[0m\n\u001b[1;32m----> 3\u001b[1;33m \u001b[0mplt\u001b[0m\u001b[1;33m.\u001b[0m\u001b[0mplot\u001b[0m\u001b[1;33m(\u001b[0m\u001b[0mv_mess2\u001b[0m\u001b[1;33m)\u001b[0m\u001b[1;33m\u001b[0m\u001b[0m\n\u001b[0m",
      "\u001b[1;31mNameError\u001b[0m: name 'v_mess2' is not defined"
     ]
    },
    {
     "data": {
      "image/png": "[encoded data removed]",
      "text/plain": [
       "<Figure size 432x288 with 1 Axes>"
      ]
     },
     "metadata": {
      "needs_background": "light"
     },
     "output_type": "display_data"
    }
   ],
   "source": [
    "#plot vitesse à partir du deplacement messuré\n",
    "plt.plot(v_mess1)\n",
    "plt.plot(v_mess2)"
   ]
  },
  {
   "cell_type": "code",
   "execution_count": 10,
   "metadata": {},
   "outputs": [
    {
     "data": {
      "text/plain": [
       "[<matplotlib.lines.Line2D at 0x20ad18fca90>]"
      ]
     },
     "execution_count": 10,
     "metadata": {},
     "output_type": "execute_result"
    },
    {
     "data": {
      "image/png": "[encoded data removed]",
      "text/plain": [
       "<Figure size 432x288 with 1 Axes>"
      ]
     },
     "metadata": {
      "needs_background": "light"
     },
     "output_type": "display_data"
    }
   ],
   "source": [
    "#plot vitesse à partir du deplacement selon filtre\n",
    "plt.plot(v_filtr1)\n",
    "plt.plot(v_filtr2)"
   ]
  },
  {
   "cell_type": "code",
   "execution_count": null,
   "metadata": {},
   "outputs": [],
   "source": []
  },
  {
   "cell_type": "code",
   "execution_count": null,
   "metadata": {},
   "outputs": [],
   "source": []
  },
  {
   "cell_type": "code",
   "execution_count": null,
   "metadata": {},
   "outputs": [],
   "source": []
  },
  {
   "cell_type": "code",
   "execution_count": null,
   "metadata": {},
   "outputs": [],
   "source": []
  },
  {
   "cell_type": "code",
   "execution_count": null,
   "metadata": {},
   "outputs": [],
   "source": []
  },
  {
   "cell_type": "code",
   "execution_count": null,
   "metadata": {},
   "outputs": [],
   "source": []
  }
 ],
 "metadata": {
  "kernelspec": {
   "display_name": "Python 3",
   "language": "python",
   "name": "python3"
  },
  "language_info": {
   "codemirror_mode": {
    "name": "ipython",
    "version": 3
   },
   "file_extension": ".py",
   "mimetype": "text/x-python",
   "name": "python",
   "nbconvert_exporter": "python",
   "pygments_lexer": "ipython3",
   "version": "3.7.0"
  }
 },
 "nbformat": 4,
 "nbformat_minor": 2
}
