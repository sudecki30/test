{
 "cells": [
  {
   "cell_type": "code",
   "execution_count": 1,
   "metadata": {},
   "outputs": [],
   "source": [
    "import numpy as np\n",
    "import cv2\n",
    "import math\n",
    "import matplotlib.pyplot as plt\n",
    "import sys\n",
    "\n",
    "\n",
    "def rgb2gray(rgb):\n",
    "    return np.dot(rgb[..., :3], [0.299, 0.587, 0.114]).astype(np.uint8)\n",
    "\n",
    "\n",
    "def hough_line(img, angle_step=0.5,lines_are_white=True, value_threshold=210):\n",
    "    \"\"\"\n",
    "    Hough transform for lines\n",
    "    Input:\n",
    "    img - 2D binary image with nonzeros representing edges\n",
    "    angle_step - Spacing between angles to use every n-th angle\n",
    "                 between -90 and 90 degrees. Default step is 1.\n",
    "    lines_are_white - boolean indicating whether lines to be detected are white\n",
    "    value_threshold - Pixel values above or below the value_threshold are edges\n",
    "    Returns:\n",
    "    accumulator - 2D array of the hough transform\n",
    "    theta - angles, in radians.\n",
    "    rhos - rho value. Max size is 2 times the diagonal\n",
    "    \"\"\"\n",
    "    # Rho and Theta init\n",
    "    thetas = np.deg2rad(np.arange(0, 180,angle_step))\n",
    "    width, height = img.shape\n",
    "    \n",
    "    #delete sky\n",
    "    img[0:int(width/3),:]=0\n",
    "    \n",
    "    diag_len = int(round(math.sqrt(width * width + height * height)))\n",
    "    rhos = np.linspace(-diag_len, diag_len, diag_len * 2)\n",
    "    # Cache some resuable values\n",
    "    cos_t = np.cos(thetas)\n",
    "    sin_t = np.sin(thetas)\n",
    "    num_thetas = len(thetas)\n",
    "\n",
    "    # Hough accumulator array of theta vs rho\n",
    "    accumulator = np.zeros((2 * diag_len, num_thetas), dtype=np.uint8)\n",
    "    # (row, col) indexes to edges\n",
    "    are_edges = img > value_threshold if lines_are_white else img < value_threshold\n",
    "    y_idxs, x_idxs = np.nonzero(are_edges)\n",
    "    img_t=img.copy()\n",
    "    #img_t[are_edges]=0\n",
    "    #cv2.imshow('test',img_t)\n",
    "    #cv2.waitKey(0)\n",
    "\n",
    "    # Vote in the hough accumulator\n",
    "    print(len(x_idxs))\n",
    "    for i in range(len(x_idxs)):\n",
    "        x = x_idxs[i]\n",
    "        y = y_idxs[i]\n",
    "        print(str(i),end='\\r')\n",
    "        for t_idx in range(num_thetas):\n",
    "            # Calculate rho. diag_len is added for a positive index\n",
    "            rho = diag_len + int(round(x * cos_t[t_idx] + y * sin_t[t_idx]))\n",
    "            accumulator[rho, t_idx] += 1\n",
    "\n",
    "    return accumulator, thetas, rhos\n"
   ]
  },
  {
   "cell_type": "code",
   "execution_count": 2,
   "metadata": {},
   "outputs": [
    {
     "name": "stdout",
     "output_type": "stream",
     "text": [
      "12616\n",
      "12615\r"
     ]
    }
   ],
   "source": [
    "#read image\n",
    "img = cv2.imread('001109.png')\n",
    "#convert to grey\n",
    "if img.ndim == 3:\n",
    "    img_g = rgb2gray(img)\n",
    "#calcul Hough\n",
    "accumulator, thetas, rhos = hough_line(img_g)"
   ]
  },
  {
   "cell_type": "code",
   "execution_count": null,
   "metadata": {},
   "outputs": [],
   "source": []
  },
  {
   "cell_type": "code",
   "execution_count": 3,
   "metadata": {},
   "outputs": [
    {
     "data": {
      "image/png": "[encoded data removed]",
      "text/plain": [
       "<Figure size 432x288 with 1 Axes>"
      ]
     },
     "metadata": {
      "needs_background": "light"
     },
     "output_type": "display_data"
    }
   ],
   "source": [
    "#plot accumulator\n",
    "fig = plt.figure()\n",
    "ax = fig.add_subplot(111)\n",
    "ax.imshow(accumulator, cmap='jet')\n",
    "ax.set_aspect('equal', adjustable='box')\n",
    "    "
   ]
  },
  {
   "cell_type": "code",
   "execution_count": 4,
   "metadata": {},
   "outputs": [
    {
     "name": "stdout",
     "output_type": "stream",
     "text": [
      "Number of ligne founds:6\n"
     ]
    },
    {
     "data": {
      "text/plain": [
       "True"
      ]
     },
     "execution_count": 4,
     "metadata": {},
     "output_type": "execute_result"
    }
   ],
   "source": [
    "#find peak\n",
    "\n",
    "from skimage.feature import peak_local_max\n",
    "max=np.max(accumulator)\n",
    "\n",
    "#reopen image to be sure it is not a temp image save\n",
    "img = cv2.imread('001109.png')\n",
    "# Comparison between image_max and im to find the coordinates of local maxima\n",
    "\n",
    "coordinates =peak_local_max(accumulator,min_distance=10,threshold_abs =0.8*max)\n",
    "print('Number of ligne founds:' +str(len(coordinates)))\n",
    "a = np.cos(thetas)\n",
    "b=np.sin(thetas)\n",
    "      \n",
    "#trace lines\n",
    "for l in range(len(coordinates)):\n",
    "    index_rho= coordinates[l][0]\n",
    "    index_thetas=coordinates[l][1]\n",
    "    x0=a[index_thetas]*rhos[index_rho]\n",
    "    y0=b[index_thetas]*rhos[index_rho]\n",
    "    x1 =int(x0 + 2000*(-b[index_thetas]))\n",
    "    y1 =int(y0 + 2000*a[index_thetas])\n",
    "    x2 =int(x0 - 2000*(-b[index_thetas]))\n",
    "    y2 = int(y0 - 2000*a[index_thetas])\n",
    "    \n",
    "\n",
    "    cv2.line(img, (x1, y1), (x2, y2), (255, 0, 0), 5)\n",
    "#save img  \n",
    "cv2.imwrite('test.png', img)"
   ]
  },
  {
   "cell_type": "code",
   "execution_count": null,
   "metadata": {},
   "outputs": [],
   "source": []
  },
  {
   "cell_type": "code",
   "execution_count": null,
   "metadata": {},
   "outputs": [],
   "source": []
  }
 ],
 "metadata": {
  "kernelspec": {
   "display_name": "Python 3",
   "language": "python",
   "name": "python3"
  },
  "language_info": {
   "codemirror_mode": {
    "name": "ipython",
    "version": 3
   },
   "file_extension": ".py",
   "mimetype": "text/x-python",
   "name": "python",
   "nbconvert_exporter": "python",
   "pygments_lexer": "ipython3",
   "version": "3.7.0"
  }
 },
 "nbformat": 4,
 "nbformat_minor": 2
}
